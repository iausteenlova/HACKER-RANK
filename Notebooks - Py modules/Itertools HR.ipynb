{
 "cells": [
  {
   "cell_type": "markdown",
   "metadata": {},
   "source": [
    "#### | Hacker Rank\n",
    "> Itertools"
   ]
  },
  {
   "cell_type": "markdown",
   "metadata": {},
   "source": [
    "> https://www.hackerrank.com/domains/python?filters%5Bsubdomains%5D%5B%5D=py-itertools"
   ]
  },
  {
   "cell_type": "markdown",
   "metadata": {},
   "source": [
    "###### >> Product\n",
    "> https://www.hackerrank.com/challenges/itertools-product/problem"
   ]
  },
  {
   "cell_type": "code",
   "execution_count": null,
   "metadata": {},
   "outputs": [],
   "source": [
    "from itertools import product \n",
    "A = list(map(int,input().split()))\n",
    "B = list(map(int,input().split()))\n",
    "for i in (list(product(A,B))):\n",
    "    print(i,end=' ')"
   ]
  },
  {
   "cell_type": "markdown",
   "metadata": {},
   "source": [
    "###### >> Combinations\n",
    "> https://www.hackerrank.com/challenges/itertools-combinations/problem"
   ]
  },
  {
   "cell_type": "code",
   "execution_count": null,
   "metadata": {},
   "outputs": [],
   "source": [
    "from itertools import *\n",
    "\n",
    "s,k = input().split(' ')\n",
    "\n",
    "for l in range(1,int(k)+1):\n",
    "    for c in combinations (sorted(s),l):\n",
    "        print(''.join(c))"
   ]
  },
  {
   "cell_type": "markdown",
   "metadata": {},
   "source": [
    "###### >> combinations-with-replacement\n",
    "> https://www.hackerrank.com/challenges/itertools-combinations-with-replacement/problem"
   ]
  },
  {
   "cell_type": "code",
   "execution_count": null,
   "metadata": {},
   "outputs": [],
   "source": [
    "from itertools import *\n",
    "s,k = input().split()\n",
    "for p in combinations_with_replacement(sorted(s),int(k)):\n",
    "    print(''.join(p))"
   ]
  },
  {
   "cell_type": "markdown",
   "metadata": {},
   "source": [
    "###### >> itertools-permutations\n",
    "> https://www.hackerrank.com/challenges/itertools-permutations/problem"
   ]
  },
  {
   "cell_type": "code",
   "execution_count": null,
   "metadata": {},
   "outputs": [],
   "source": [
    "from itertools import permutations\n",
    "S,k = input().split()\n",
    "p = list(permutations(sorted(S),int(k)))\n",
    "[print(*i,sep='')for i in p]"
   ]
  },
  {
   "cell_type": "markdown",
   "metadata": {},
   "source": [
    "###### >> compress-the-string\n",
    "> https://www.hackerrank.com/challenges/compress-the-string/problem"
   ]
  },
  {
   "cell_type": "code",
   "execution_count": null,
   "metadata": {},
   "outputs": [],
   "source": [
    "from itertools import *\n",
    "S = input()\n",
    "A = groupby(S)\n",
    "for i,j in A:\n",
    "    print(((len(list(j))),int(i)),end=' ')"
   ]
  },
  {
   "cell_type": "markdown",
   "metadata": {},
   "source": [
    "###### >> iterables-and-iterators\n",
    "> https://www.hackerrank.com/challenges/iterables-and-iterators/problem"
   ]
  },
  {
   "cell_type": "code",
   "execution_count": null,
   "metadata": {},
   "outputs": [],
   "source": [
    "from itertools import *\n",
    "N = int(input())\n",
    "A = input().split()\n",
    "C = int(input())\n",
    "ll = list(combinations(A,C))\n",
    "ff = lambda x : 'a' in x \n",
    "kk = list(filter(ff,ll))\n",
    "print(round(len(kk)/len(ll),11))"
   ]
  },
  {
   "cell_type": "markdown",
   "metadata": {},
   "source": [
    "###### >> MAximize it !\n",
    "> https://www.hackerrank.com/challenges/maximize-it/problem"
   ]
  },
  {
   "cell_type": "code",
   "execution_count": null,
   "metadata": {},
   "outputs": [],
   "source": [
    "from itertools import *\n",
    "K,M = map(int,input().split())\n",
    "A = [];S = []\n",
    "for i in range(K) :\n",
    "    a  = list(map(int,input().split()))\n",
    "    A.append(a[1:])\n",
    "# for i in range(len(A)):\n",
    "#     A[i].remove((A[i][0]))\n",
    "C = product(*A)\n",
    "for i in C:\n",
    "    CC = (sum(list(map(pow,i,repeat(2)))))%(M)\n",
    "    S.append(CC)\n",
    "print(max(S))"
   ]
  }
 ],
 "metadata": {
  "kernelspec": {
   "display_name": "Python 3",
   "language": "python",
   "name": "python3"
  },
  "language_info": {
   "codemirror_mode": {
    "name": "ipython",
    "version": 3
   },
   "file_extension": ".py",
   "mimetype": "text/x-python",
   "name": "python",
   "nbconvert_exporter": "python",
   "pygments_lexer": "ipython3",
   "version": "3.7.3"
  }
 },
 "nbformat": 4,
 "nbformat_minor": 2
}
