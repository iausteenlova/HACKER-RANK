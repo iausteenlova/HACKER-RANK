{
 "cells": [
  {
   "cell_type": "markdown",
   "metadata": {},
   "source": [
    "###### || Collections\n",
    "> Hacker Rank"
   ]
  },
  {
   "cell_type": "markdown",
   "metadata": {},
   "source": [
    "> https://www.hackerrank.com/domains/python?filters%5Bsubdomains%5D%5B%5D=py-collections"
   ]
  },
  {
   "cell_type": "markdown",
   "metadata": {},
   "source": [
    "###### >> collections-counter\n",
    "> https://www.hackerrank.com/challenges/collections-counter/problem"
   ]
  },
  {
   "cell_type": "code",
   "execution_count": null,
   "metadata": {},
   "outputs": [],
   "source": [
    "from collections import *\n",
    "X = int(input())\n",
    "Ss = list(map(int,input().split()))\n",
    "N = int(input())\n",
    "s=[];p=[]\n",
    "for i in range(N):\n",
    "    XS,XP = map(int,input().split())\n",
    "    s.append(XS);p.append(XP)\n",
    "    xsxp = list(zip(s,p))\n",
    "C = Counter(Ss)\n",
    "E = 0\n",
    "for i in range(N):\n",
    "    if xsxp[i][0] in C and C[xsxp[i][0]]>=1 :\n",
    "        E+= xsxp[i][1]\n",
    "        C[xsxp[i][0]] -=1\n",
    "print(E)"
   ]
  },
  {
   "cell_type": "markdown",
   "metadata": {},
   "source": [
    "###### >> defaultdict\n",
    "> https://www.hackerrank.com/challenges/defaultdict-tutorial/problem"
   ]
  },
  {
   "cell_type": "code",
   "execution_count": null,
   "metadata": {},
   "outputs": [],
   "source": [
    "from collections import defaultdict\n",
    "d = defaultdict(list)\n",
    "list1=[]\n",
    "\n",
    "n, m = map(int,input().split())\n",
    "\n",
    "for i in range(0,n):\n",
    "    d[input()].append(i+1) \n",
    "\n",
    "for i in range(0,m):\n",
    "    list1=list1+[input()]  \n",
    "\n",
    "for i in list1: \n",
    "    if i in d:\n",
    "        print (\" \".join( map(str,d[i]) ))\n",
    "    else:\n",
    "        print (-1)"
   ]
  },
  {
   "cell_type": "markdown",
   "metadata": {},
   "source": [
    "###### >> namedtuple\n",
    "> https://www.hackerrank.com/challenges/py-collections-namedtuple/problem"
   ]
  },
  {
   "cell_type": "code",
   "execution_count": null,
   "metadata": {},
   "outputs": [],
   "source": [
    "from collections import namedtuple\n",
    "(n, categories) = (int(input()), input().split())\n",
    "Grade = namedtuple('Grade', categories)\n",
    "marks = [int(Grade._make(input().split()).MARKS) for _ in range(n)]\n",
    "print((sum(marks) / len(marks)))"
   ]
  },
  {
   "cell_type": "markdown",
   "metadata": {},
   "source": [
    "###### >> ordereddict\n",
    "> https://www.hackerrank.com/challenges/py-collections-ordereddict/problem"
   ]
  },
  {
   "cell_type": "code",
   "execution_count": null,
   "metadata": {},
   "outputs": [],
   "source": [
    "from collections import *\n",
    "n = int(input().strip())\n",
    "d = defaultdict(int)\n",
    "for _ in range(n):\n",
    "    x,s,y = input().rpartition(' ')\n",
    "    d[x] += int(y)\n",
    "for k,v in d.items():\n",
    "    print(k,v)"
   ]
  },
  {
   "cell_type": "markdown",
   "metadata": {},
   "source": [
    "###### >> word-order\n",
    "> https://www.hackerrank.com/challenges/word-order/problem"
   ]
  },
  {
   "cell_type": "code",
   "execution_count": null,
   "metadata": {},
   "outputs": [],
   "source": [
    "from collections import *\n",
    "n = int(input().strip());x=[]\n",
    "for _ in range(n):\n",
    "    x.append(str(input().split()))\n",
    "k = Counter(x)\n",
    "print(len(k))\n",
    "for i in k.values():\n",
    "    print(i,end=' ')"
   ]
  },
  {
   "cell_type": "markdown",
   "metadata": {},
   "source": [
    "###### >> collections-deque\n",
    "> https://www.hackerrank.com/challenges/py-collections-deque/problem"
   ]
  },
  {
   "cell_type": "code",
   "execution_count": null,
   "metadata": {},
   "outputs": [],
   "source": [
    "from collections import *\n",
    "d = deque()\n",
    "N = int(input())\n",
    "for i in range(N):\n",
    "    A = list(input().split())\n",
    "    if A[0] in ['pop','popleft']:\n",
    "        cmd=A[0];arg=''\n",
    "    else:\n",
    "        cmd = A[0];arg = A[1]\n",
    "    C = cmd + '('+arg+')'\n",
    "    eval('d.'+C)\n",
    "for i in d:\n",
    "    print(i,end=' ')"
   ]
  },
  {
   "cell_type": "code",
   "execution_count": null,
   "metadata": {},
   "outputs": [],
   "source": []
  }
 ],
 "metadata": {
  "kernelspec": {
   "display_name": "Python 3",
   "language": "python",
   "name": "python3"
  },
  "language_info": {
   "codemirror_mode": {
    "name": "ipython",
    "version": 3
   },
   "file_extension": ".py",
   "mimetype": "text/x-python",
   "name": "python",
   "nbconvert_exporter": "python",
   "pygments_lexer": "ipython3",
   "version": "3.7.3"
  }
 },
 "nbformat": 4,
 "nbformat_minor": 2
}
