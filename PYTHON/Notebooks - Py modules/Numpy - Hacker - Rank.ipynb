{
 "cells": [
  {
   "cell_type": "markdown",
   "metadata": {},
   "source": [
    "### Numpy Solutions\n",
    "###### > >  Hacker Rank\n",
    "> https://www.hackerrank.com/domains/python?filters%5Bsubdomains%5D%5B%5D=numpy&badge_type=python"
   ]
  },
  {
   "cell_type": "markdown",
   "metadata": {},
   "source": [
    "###### Arrays\n",
    "> https://www.hackerrank.com/challenges/np-arrays/problem\n"
   ]
  },
  {
   "cell_type": "code",
   "execution_count": 1,
   "metadata": {},
   "outputs": [],
   "source": [
    "def arrays(arr):\n",
    "    return numpy.array(arr[::-1],float)"
   ]
  },
  {
   "cell_type": "markdown",
   "metadata": {},
   "source": [
    "###### > Shape & Reshape\n",
    "> https://www.hackerrank.com/challenges/np-shape-reshape/problem"
   ]
  },
  {
   "cell_type": "code",
   "execution_count": 5,
   "metadata": {
    "scrolled": true
   },
   "outputs": [
    {
     "name": "stdout",
     "output_type": "stream",
     "text": [
      "1 2 3 4 5 6 7 8 9\n",
      "[[1 2 3]\n",
      " [4 5 6]\n",
      " [7 8 9]]\n"
     ]
    }
   ],
   "source": [
    "import numpy as np\n",
    "n = list(map(int,input('').split()))\n",
    "print(np.array(n).reshape(3,3))"
   ]
  },
  {
   "cell_type": "markdown",
   "metadata": {},
   "source": [
    "###### > Transpose & Flatten\n",
    "> https://www.hackerrank.com/challenges/np-transpose-and-flatten/problem"
   ]
  },
  {
   "cell_type": "code",
   "execution_count": 6,
   "metadata": {},
   "outputs": [
    {
     "name": "stdout",
     "output_type": "stream",
     "text": [
      "2 2\n",
      "1 2\n",
      "3 4\n",
      "[[1 3]\n",
      " [2 4]]\n",
      "[1 2 3 4]\n"
     ]
    }
   ],
   "source": [
    "import numpy as np\n",
    "a = list(map(int,input('').split()))\n",
    "x = []\n",
    "for i in range(a[0]):\n",
    "    b = list(map(int,input('').split()))\n",
    "    x.append(b)\n",
    "print(np.array(x).T)\n",
    "print((np.array(x).flatten()))"
   ]
  },
  {
   "cell_type": "markdown",
   "metadata": {},
   "source": [
    "###### > Concatenate\n",
    "> https://www.hackerrank.com/challenges/np-concatenate/problem"
   ]
  },
  {
   "cell_type": "code",
   "execution_count": null,
   "metadata": {},
   "outputs": [],
   "source": [
    "import numpy as np\n",
    "a = list(map(int,input('').split()))\n",
    "x = []; xx =[]\n",
    "for i in range(a[0]):\n",
    "    b = list(map(int,input('').split()))\n",
    "    x.append(b)\n",
    "for i in range(a[1]):\n",
    "    bb = list(map(int,input('').split()))\n",
    "    xx.append(bb)\n",
    "ar1 = np.array(x)\n",
    "ar2 = np.array(xx)\n",
    "print(np.concatenate((ar1,ar2),axis=0))"
   ]
  },
  {
   "cell_type": "markdown",
   "metadata": {},
   "source": [
    "###### > Zeros & Ones\n",
    "> https://www.hackerrank.com/challenges/np-zeros-and-ones/problem"
   ]
  },
  {
   "cell_type": "code",
   "execution_count": null,
   "metadata": {},
   "outputs": [],
   "source": [
    "import numpy as np\n",
    "q = []\n",
    "shape = input().split()\n",
    "for i in shape:\n",
    "    i = int(i)\n",
    "    q.append(i)\n",
    "#print(q)\n",
    "t = tuple(q)\n",
    "print(np.zeros(t,dtype=int))\n",
    "print(np.ones(t,dtype=int))"
   ]
  },
  {
   "cell_type": "markdown",
   "metadata": {},
   "source": [
    "###### > Eye or Identity\n",
    "> https://www.hackerrank.com/challenges/np-eye-and-identity/problem"
   ]
  },
  {
   "cell_type": "code",
   "execution_count": null,
   "metadata": {},
   "outputs": [],
   "source": [
    "import numpy\n",
    "print(str(numpy.eye(*map(int,input().split()))).replace('1',' 1').replace('0',' 0'))"
   ]
  },
  {
   "cell_type": "markdown",
   "metadata": {},
   "source": [
    "###### >>Array Mathematics\n",
    "> https://www.hackerrank.com/challenges/np-array-mathematics/problem"
   ]
  },
  {
   "cell_type": "code",
   "execution_count": null,
   "metadata": {},
   "outputs": [],
   "source": [
    "import numpy as np\n",
    "N,M = map(int,input('').split())\n",
    "A = [];B = []\n",
    "for i in range(N):\n",
    "    A.append(list(map(int,input('').split())))\n",
    "for i in range(N):\n",
    "    B.append(list(map(int,input('').split())))\n",
    "A = np.array(A);B=np.array(B)\n",
    "print(np.add(A,B))\n",
    "print(np.subtract(A,B))\n",
    "print(np.multiply(A,B))\n",
    "print(A//B)\n",
    "print(np.mod(A,B))\n",
    "print(np.power(A,B))"
   ]
  },
  {
   "cell_type": "markdown",
   "metadata": {},
   "source": [
    "###### > Floor , Ceil , Rint\n",
    "> https://www.hackerrank.com/challenges/floor-ceil-and-rint/problem"
   ]
  },
  {
   "cell_type": "code",
   "execution_count": null,
   "metadata": {},
   "outputs": [],
   "source": [
    "import numpy\n",
    "numpy.set_printoptions(sign=' ')\n",
    "a = numpy.array(input().split(),float)\n",
    "print(numpy.floor(a))\n",
    "print(numpy.ceil(a))\n",
    "print(numpy.rint(a))"
   ]
  },
  {
   "cell_type": "markdown",
   "metadata": {},
   "source": [
    "###### > Sum and Product\n",
    "> https://www.hackerrank.com/challenges/np-sum-and-prod/problem"
   ]
  },
  {
   "cell_type": "code",
   "execution_count": null,
   "metadata": {},
   "outputs": [],
   "source": [
    "import numpy as np\n",
    "a = np.array(input('').split(),int)\n",
    "Arr =[]\n",
    "for i in range(a[0]):\n",
    "    Arr.append(list(map(int,input('').split())))\n",
    "AS = np.sum(Arr,axis=0)\n",
    "print(np.prod(AS))"
   ]
  },
  {
   "cell_type": "markdown",
   "metadata": {},
   "source": [
    "###### > Min and Max\n",
    "> https://www.hackerrank.com/challenges/np-min-and-max/problem"
   ]
  },
  {
   "cell_type": "code",
   "execution_count": null,
   "metadata": {},
   "outputs": [],
   "source": [
    "import numpy as np\n",
    "a = np.array(input('').split(),int)\n",
    "Arr =[]\n",
    "for i in range(a[0]):\n",
    "    Arr.append(list(map(int,input('').split())))\n",
    "m = np.min(Arr,axis=1)\n",
    "print(np.max(m))"
   ]
  },
  {
   "cell_type": "markdown",
   "metadata": {},
   "source": [
    "###### > Mean , Variance , Std\n",
    "> https://www.hackerrank.com/challenges/np-mean-var-and-std/problem"
   ]
  },
  {
   "cell_type": "code",
   "execution_count": null,
   "metadata": {},
   "outputs": [],
   "source": [
    "import numpy as np\n",
    "np.set_printoptions(sign=' ')\n",
    "a = np.array(input('').split(),int)\n",
    "Arr =[]\n",
    "for i in range(a[0]):\n",
    "    Arr.append(list(map(int,input('').split())))\n",
    "print(np.mean(Arr,axis=1))\n",
    "print(np.var(Arr,axis=0))\n",
    "print(round(np.std(Arr),12))"
   ]
  },
  {
   "cell_type": "markdown",
   "metadata": {},
   "source": [
    "###### > Dot and Cross product\n",
    "> https://www.hackerrank.com/challenges/np-dot-and-cross/problem"
   ]
  },
  {
   "cell_type": "code",
   "execution_count": null,
   "metadata": {},
   "outputs": [],
   "source": [
    "import numpy as np\n",
    "N = int(input())\n",
    "Arr = [];Brr = []\n",
    "for i in range(N):\n",
    "    Arr.append(list(map(int,input('').split())))\n",
    "for i in range(N):\n",
    "    Brr.append(list(map(int,input('').split())))\n",
    "print(np.dot(Arr,Brr))"
   ]
  },
  {
   "cell_type": "markdown",
   "metadata": {},
   "source": [
    "###### > Inner and Outer \n",
    "> https://www.hackerrank.com/challenges/np-inner-and-outer/problem"
   ]
  },
  {
   "cell_type": "code",
   "execution_count": null,
   "metadata": {},
   "outputs": [],
   "source": [
    "import numpy as np\n",
    "A = list(map(int,input('').split()))\n",
    "B = list(map(int,input('').split()))\n",
    "print(np.inner(A,B))\n",
    "print(np.outer(A,B))"
   ]
  },
  {
   "cell_type": "markdown",
   "metadata": {},
   "source": [
    "###### > Polynomials\n",
    "> https://www.hackerrank.com/challenges/np-polynomials/problem"
   ]
  },
  {
   "cell_type": "code",
   "execution_count": null,
   "metadata": {},
   "outputs": [],
   "source": [
    "import numpy as np\n",
    "P = list(map(float,input().split()))\n",
    "x = float(input())\n",
    "print(np.polyval(P,x))"
   ]
  },
  {
   "cell_type": "markdown",
   "metadata": {},
   "source": [
    "###### > Linear Algebra\n",
    "> https://www.hackerrank.com/challenges/np-linear-algebra/problem"
   ]
  },
  {
   "cell_type": "code",
   "execution_count": null,
   "metadata": {},
   "outputs": [],
   "source": [
    "import numpy as np\n",
    "N = int(input())\n",
    "A=[]\n",
    "for i in range(N):\n",
    "    A.append(list(map(float,input().split())))\n",
    "print(round(np.linalg.det(A),2))"
   ]
  }
 ],
 "metadata": {
  "kernelspec": {
   "display_name": "Python 3",
   "language": "python",
   "name": "python3"
  },
  "language_info": {
   "codemirror_mode": {
    "name": "ipython",
    "version": 3
   },
   "file_extension": ".py",
   "mimetype": "text/x-python",
   "name": "python",
   "nbconvert_exporter": "python",
   "pygments_lexer": "ipython3",
   "version": "3.7.3"
  }
 },
 "nbformat": 4,
 "nbformat_minor": 2
}
