{
 "cells": [
  {
   "cell_type": "markdown",
   "metadata": {},
   "source": [
    "### Sets - Hacker Rank\n",
    "> https://www.hackerrank.com/domains/python?filters%5Bsubdomains%5D%5B%5D=py-sets&badge_type=python"
   ]
  },
  {
   "cell_type": "markdown",
   "metadata": {},
   "source": [
    "###### >> Intro\n",
    "> https://www.hackerrank.com/challenges/py-introduction-to-sets/problem"
   ]
  },
  {
   "cell_type": "code",
   "execution_count": null,
   "metadata": {},
   "outputs": [],
   "source": [
    "def average(array):\n",
    "    # your code goes here\n",
    "    a = set(arr)\n",
    "    ar = list(a)\n",
    "    avg = (sum(ar)/len(ar))\n",
    "    return avg\n",
    "\n",
    "if __name__ == '__main__':\n",
    "    n = int(input())\n",
    "    arr = list(map(int, input().split()))\n",
    "    result = average(arr)\n",
    "    print(result)"
   ]
  },
  {
   "cell_type": "markdown",
   "metadata": {},
   "source": [
    "###### >> No Idea!\n",
    "> https://www.hackerrank.com/challenges/no-idea/problem"
   ]
  },
  {
   "cell_type": "code",
   "execution_count": null,
   "metadata": {},
   "outputs": [],
   "source": [
    "nm = list(map(int,input().split()))\n",
    "arr = list(map(int,input().split()))\n",
    "A = set(map(int,input().split()))\n",
    "B = set(map(int,input().split()))\n",
    "happiness = 0\n",
    "for i in arr:\n",
    "    if i in A:\n",
    "        happiness+=1\n",
    "    elif i in B:\n",
    "        happiness-=1\n",
    "print(happiness)"
   ]
  },
  {
   "cell_type": "markdown",
   "metadata": {},
   "source": [
    "###### >> Symmetric Difference\n",
    "> https://www.hackerrank.com/challenges/symmetric-difference/problem"
   ]
  },
  {
   "cell_type": "code",
   "execution_count": null,
   "metadata": {},
   "outputs": [],
   "source": [
    "M = int(input())\n",
    "m = set(map(int,input().split()))\n",
    "N = int(input())\n",
    "n = set(map(int,input().split()))\n",
    "k = sorted(list(m^n))\n",
    "for i in k :\n",
    "    print(i)"
   ]
  },
  {
   "cell_type": "markdown",
   "metadata": {},
   "source": [
    "###### >> Adding to Sets\n",
    ">https://www.hackerrank.com/challenges/py-set-add/problem"
   ]
  },
  {
   "cell_type": "code",
   "execution_count": null,
   "metadata": {},
   "outputs": [],
   "source": [
    "stamps = []\n",
    "N = int(input())\n",
    "for I in range(N):\n",
    "    s = input()\n",
    "    stamps.append(s)\n",
    "    st_set = set(stamps)\n",
    "print(len(st_set))"
   ]
  },
  {
   "cell_type": "markdown",
   "metadata": {},
   "source": [
    "###### >> Discard , Remove , Pop\n",
    ">https://www.hackerrank.com/challenges/py-set-discard-remove-pop/problem"
   ]
  },
  {
   "cell_type": "code",
   "execution_count": null,
   "metadata": {},
   "outputs": [],
   "source": [
    "n = int(input())\n",
    "s = set(map(int, input().split()))\n",
    "N = int(input())\n",
    "for i in range(N):\n",
    "    ss = input().split()\n",
    "    cmd = ss[0];arg=ss[1:]\n",
    "    cmd = cmd+'('+','.join(arg)+')'\n",
    "    eval('s.'+cmd)\n",
    "print(sum(list(s)))"
   ]
  },
  {
   "cell_type": "markdown",
   "metadata": {},
   "source": [
    "###### >> Union , Intersection , Difference , Symmetric Difference"
   ]
  },
  {
   "cell_type": "code",
   "execution_count": null,
   "metadata": {},
   "outputs": [],
   "source": [
    "nE =int(input())\n",
    "E = set(map(int,input().split()))\n",
    "nF = int(input())\n",
    "F = set(map(int,input().split()))\n",
    "print(len(E|F)) # Union\n",
    "print(len(E&F)) # Intersection\n",
    "print(len(E-F)) # Difference\n",
    "print(len(^|F)) # Symmetric Difference"
   ]
  },
  {
   "cell_type": "markdown",
   "metadata": {},
   "source": [
    "###### >> Set Mutations\n",
    ">https://www.hackerrank.com/challenges/py-set-mutations/problem"
   ]
  },
  {
   "cell_type": "code",
   "execution_count": null,
   "metadata": {},
   "outputs": [],
   "source": [
    "nA = int(input())\n",
    "A = set(map(int,input().split()))\n",
    "N = int(input())\n",
    "for i in range(N):\n",
    "    sss = input().split();cmd = sss[0];arg = sss[1:]\n",
    "    SSS = set(map(int,input().split()))\n",
    "    cmd = cmd+'('+'SSS'+')'\n",
    "    eval('A.'+cmd)\n",
    "print(sum(list(A)))"
   ]
  },
  {
   "cell_type": "markdown",
   "metadata": {},
   "source": [
    "###### >> The Captains Room\n",
    "> https://www.hackerrank.com/challenges/py-the-captains-room/problem"
   ]
  },
  {
   "cell_type": "code",
   "execution_count": null,
   "metadata": {},
   "outputs": [],
   "source": [
    "k,arr = int(input()),list(map(int, input().split()))\n",
    "myset = set(arr)\n",
    "print(((sum(myset)*k)-(sum(arr)))//(k-1))"
   ]
  },
  {
   "cell_type": "markdown",
   "metadata": {},
   "source": [
    "###### >> Subsets to set\n",
    "> https://www.hackerrank.com/challenges/py-check-subset/problem"
   ]
  },
  {
   "cell_type": "code",
   "execution_count": null,
   "metadata": {},
   "outputs": [],
   "source": [
    "T = int(input())\n",
    "for i in range(T):\n",
    "    nA = int(input())\n",
    "    A = set(map(int,input().split()))\n",
    "    nB = int(input())\n",
    "    B = set(map(int,input().split()))\n",
    "    print(A.issubset(B))"
   ]
  },
  {
   "cell_type": "markdown",
   "metadata": {},
   "source": [
    "###### >> Strict Super Set \n",
    "> https://www.hackerrank.com/challenges/py-check-strict-superset/problem"
   ]
  },
  {
   "cell_type": "code",
   "execution_count": null,
   "metadata": {},
   "outputs": [],
   "source": [
    "A = set(map(int,input().split()))\n",
    "n = int(input());a=[]\n",
    "for i in range(n):\n",
    "    B = set(map(int,input().split()))\n",
    "    a.append(B.issubset(A))\n",
    "if False in a:\n",
    "    print(False)\n",
    "else:\n",
    "    print(True)"
   ]
  }
 ],
 "metadata": {
  "kernelspec": {
   "display_name": "Python 3",
   "language": "python",
   "name": "python3"
  },
  "language_info": {
   "codemirror_mode": {
    "name": "ipython",
    "version": 3
   },
   "file_extension": ".py",
   "mimetype": "text/x-python",
   "name": "python",
   "nbconvert_exporter": "python",
   "pygments_lexer": "ipython3",
   "version": "3.7.3"
  }
 },
 "nbformat": 4,
 "nbformat_minor": 2
}
